{
 "cells": [
  {
   "cell_type": "code",
   "execution_count": 1,
   "id": "1c563c01",
   "metadata": {},
   "outputs": [
    {
     "name": "stdout",
     "output_type": "stream",
     "text": [
      "Enter the number :10\n",
      "10 Number is not Disarium\n"
     ]
    }
   ],
   "source": [
    "#Q1.Write a Python program to check if the given number is a Disarium Number?\n",
    "\n",
    "#A number is said to be the Disarium number when the sum of its digit raised to the power of their respective \n",
    "#positions becomes equal to the number itself.\n",
    "\n",
    "def isDisarium(num):\n",
    "    sum = 0\n",
    "    while(num>0):\n",
    "        dgcnt= len(str(num))\n",
    "        digit = num%10\n",
    "        sum= sum + digit**dgcnt   \n",
    "        dgcnt-=1\n",
    "        num = num//10\n",
    "    return sum\n",
    "\n",
    "num = int(input(\"Enter the number :\"))\n",
    "\n",
    "\n",
    "sum = isDisarium(num)\n",
    "if sum == num:\n",
    "    print(num,\"Number is Disarium\")\n",
    "else:\n",
    "    print(num,\"Number is not Disarium\")"
   ]
  },
  {
   "cell_type": "code",
   "execution_count": 2,
   "id": "8a1d1c96",
   "metadata": {},
   "outputs": [
    {
     "name": "stdout",
     "output_type": "stream",
     "text": [
      "Disarium numbers in range 1 to 100\n",
      "[1, 2, 3, 4, 5, 6, 7, 8, 9, 89]\n"
     ]
    }
   ],
   "source": [
    "#Q2.Write a Python program to print all disarium numbers between 1 to 100?\n",
    "\n",
    "def isDisarium(num):\n",
    "    sum = 0\n",
    "    while(num>0):\n",
    "        dgcnt= len(str(num))\n",
    "        digit = num%10\n",
    "        sum= sum + digit**dgcnt   \n",
    "        dgcnt-=1\n",
    "        num = num//10\n",
    "    return sum\n",
    "\n",
    "print(\"Disarium numbers in range 1 to 100\")\n",
    "disariumNum = []\n",
    "\n",
    "for i in range(1,101):\n",
    "    sum = 0\n",
    "    sum = isDisarium(i)\n",
    "    if sum == i:\n",
    "        disariumNum.append(i)        \n",
    "print(disariumNum)"
   ]
  },
  {
   "cell_type": "code",
   "execution_count": 3,
   "id": "13f84c9c",
   "metadata": {},
   "outputs": [
    {
     "name": "stdout",
     "output_type": "stream",
     "text": [
      "Enter the number :7\n",
      "7 Is a Happy Number\n"
     ]
    }
   ],
   "source": [
    "#Q3.Write a Python program to check if the given number is Happy Number?\n",
    "\n",
    "#A number is said to be happy if it yields 1 when replaced by the sum of squares of its digits repeatedly. \n",
    "#If this process results in an endless cycle of numbers containing 4, then the number will be an unhappy number\n",
    "\n",
    "def isHappy(num):\n",
    "    sum = 0\n",
    "    while(num>0):\n",
    "        digit = num%10\n",
    "        sum= sum + digit**2        \n",
    "        num = num//10\n",
    "    return sum\n",
    "\n",
    "num = int(input(\"Enter the number :\"))\n",
    "result = num\n",
    "\n",
    "\n",
    "while (result != 1 and result != 4):\n",
    "    result = isHappy(result)\n",
    "\n",
    "if result == 1:\n",
    "    print(num,\"Is a Happy Number\")\n",
    "else:\n",
    "    print(num,\" Is a Unhappy Number\")"
   ]
  },
  {
   "cell_type": "code",
   "execution_count": 4,
   "id": "d15e891d",
   "metadata": {},
   "outputs": [
    {
     "name": "stdout",
     "output_type": "stream",
     "text": [
      "Happy numbers in range 1 to 100\n",
      "[1, 7, 10, 13, 19, 23, 28, 31, 32, 44, 49, 68, 70, 79, 82, 86, 91, 94, 97, 100]\n"
     ]
    }
   ],
   "source": [
    "#Q4.Write a Python program to print all happy numbers between 1 and 100?\n",
    "\n",
    "\n",
    "def isHappy(num):\n",
    "    sum = 0\n",
    "    while(num>0):\n",
    "        digit = num%10\n",
    "        sum= sum + digit**2        \n",
    "        num = num//10\n",
    "    return sum\n",
    "\n",
    "print(\"Happy numbers in range 1 to 100\")\n",
    "result=num=i=0\n",
    "happyNum = []\n",
    "for i in range(1,101):\n",
    "    result = i\n",
    "    while (result != 1 and result != 4):\n",
    "        result = isHappy(result)    \n",
    "    if result == 1:\n",
    "        happyNum.append(i)\n",
    "print(happyNum)"
   ]
  },
  {
   "cell_type": "code",
   "execution_count": 5,
   "id": "31253653",
   "metadata": {},
   "outputs": [
    {
     "name": "stdout",
     "output_type": "stream",
     "text": [
      "Enter the number :10\n",
      "10 Is a Harshad number\n"
     ]
    }
   ],
   "source": [
    "#Q5Write a Python program to determine whether the given number is a Harshad Number?\n",
    "\n",
    "#If a number is divisible by the sum of its digits, then it will be known as a Harshad Number\n",
    "\n",
    "def digitSum(num):\n",
    "    sum = 0\n",
    "    while(num>0):\n",
    "        digit = num%10\n",
    "        sum= sum + digit       \n",
    "        num = num//10\n",
    "    return sum\n",
    "\n",
    "num = int(input(\"Enter the number :\"))\n",
    "sum = digitSum(num)\n",
    "\n",
    "if num % sum == 0:\n",
    "    print(num,\"Is a Harshad number\")\n",
    "else:\n",
    "    print(num,\"Is not a Harshad number\")"
   ]
  },
  {
   "cell_type": "code",
   "execution_count": 6,
   "id": "c6b9e43d",
   "metadata": {},
   "outputs": [
    {
     "name": "stdout",
     "output_type": "stream",
     "text": [
      "Pronic numbers in range 1 to 100\n",
      "[2, 6, 12, 20, 30, 42, 56, 72, 90]\n"
     ]
    }
   ],
   "source": [
    "#Q6.Write a Python program to print all pronic numbers between 1 and 100?\n",
    "\n",
    "#The pronic number is a product of two consecutive integers of the form: n(n+1).\n",
    "\n",
    "def isPronicNum(num):\n",
    "    isPronic = False\n",
    "    for i in range(1,num+1):\n",
    "        if i*(i+1) == num:\n",
    "            isPronic = True\n",
    "            break\n",
    "    return isPronic\n",
    "\n",
    "print(\"Pronic numbers in range 1 to 100\")\n",
    "pronicNum = []\n",
    "for i in range(1,101):\n",
    "    if isPronicNum(i):\n",
    "        pronicNum.append(i)\n",
    "print(pronicNum)"
   ]
  },
  {
   "cell_type": "code",
   "execution_count": null,
   "id": "a1f4e7c8",
   "metadata": {},
   "outputs": [],
   "source": []
  }
 ],
 "metadata": {
  "kernelspec": {
   "display_name": "Python 3",
   "language": "python",
   "name": "python3"
  },
  "language_info": {
   "codemirror_mode": {
    "name": "ipython",
    "version": 3
   },
   "file_extension": ".py",
   "mimetype": "text/x-python",
   "name": "python",
   "nbconvert_exporter": "python",
   "pygments_lexer": "ipython3",
   "version": "3.8.8"
  }
 },
 "nbformat": 4,
 "nbformat_minor": 5
}
