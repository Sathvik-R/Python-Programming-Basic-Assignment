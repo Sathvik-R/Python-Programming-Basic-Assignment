{
 "cells": [
  {
   "cell_type": "code",
   "execution_count": 1,
   "id": "b415e03c",
   "metadata": {},
   "outputs": [
    {
     "name": "stdout",
     "output_type": "stream",
     "text": [
      "Enter word : outstanding\n",
      "ou... ou... outstanding?\n"
     ]
    }
   ],
   "source": [
    "#Q1.Write a function that stutters a word as if someone is struggling to read it. The\n",
    "#first two letters are repeated twice with an ellipsis ... and space after each, and then the\n",
    "#word is pronounced with a question mark ?.\n",
    "#Examples\n",
    "#stutter('incredible') ➞ 'in... in... incredible?'\n",
    "#stutter('enthusiastic') ➞ 'en... en... enthusiastic?'\n",
    "#stutter('outstanding') ➞ 'ou... ou... outstanding?'\n",
    "\n",
    "#Hint :- Assume all input is in lower case and at least two characters long.\n",
    "\n",
    "def stutter(word):\n",
    "    return (2*(word[:2]+'... '))+word+'?'\n",
    "word = input('Enter word : ')\n",
    "print(stutter(word))"
   ]
  },
  {
   "cell_type": "code",
   "execution_count": 2,
   "id": "b85baf6e",
   "metadata": {},
   "outputs": [
    {
     "name": "stdout",
     "output_type": "stream",
     "text": [
      "Enter the Radian : 10\n",
      "degree = 572.9582790879778\n"
     ]
    }
   ],
   "source": [
    "#Q2.Create a function that takes an angle in radians and returns the corresponding\n",
    "#angle in degrees rounded to one decimal place.\n",
    "#Examples\n",
    "#radians_to_degrees(1) ➞ 57.3\n",
    "#radians_to_degrees(20) ➞ 1145.9\n",
    "#radians_to_degrees(50) ➞ 2864.8\n",
    "\n",
    "# Function for convertion\n",
    "def radians_to_degrees(radian):\n",
    "    pi = 3.14159\n",
    "    #formula\n",
    "    degree = radian * (180/pi)\n",
    "    return degree\n",
    "radian = float(input('Enter the Radian : '))\n",
    "print(\"degree =\",(radians_to_degrees(radian)))"
   ]
  },
  {
   "cell_type": "code",
   "execution_count": 3,
   "id": "749eb7ba",
   "metadata": {},
   "outputs": [
    {
     "name": "stdout",
     "output_type": "stream",
     "text": [
      "Enter a number : 33\n",
      "33 is Curzon Number\n"
     ]
    }
   ],
   "source": [
    "#Q3.In this challenge, establish if a given integer num is a Curzon number. If 1 plus\n",
    "#2 elevated to num is exactly divisible by 1 plus 2 multiplied by num, then num is a Curzon number.\n",
    "#Given a non-negative integer num, implement a function that returns True if num is a Curzon  number, or False otherwise.\n",
    "#Examples\n",
    "#is_curzon(5) ➞ True\n",
    "# 2 ** 5 + 1 = 33\n",
    "# 2 * 5 + 1 = 11\n",
    "# 33 is a multiple of 11\n",
    "#is_curzon(10) ➞ False\n",
    "# 2 ** 10 + 1 = 1025\n",
    "# 2 * 10 + 1 = 21\n",
    "# 1025 is not a multiple of 21\n",
    "#is_curzon(14) ➞ True\n",
    "# 2 ** 14 + 1 = 16385\n",
    "# 2 * 14 + 1 = 29\n",
    "# 16385 is a multiple of 29\n",
    "\n",
    "\n",
    "def checkIfCurzonNumber(n):\n",
    " \n",
    "    power, product = 0, 0\n",
    " \n",
    "    # Find 2**n + 1\n",
    "    power = pow(2, n) + 1\n",
    " \n",
    "    # Find 2*n + 1\n",
    "    product = 2 * n + 1\n",
    " \n",
    "    # Check for divisibility\n",
    "    if (power % product == 0):\n",
    "        print(n, \"is Curzon Number\")\n",
    "    else:\n",
    "        print(n, \"is not a Curzon Number\")\n",
    "        \n",
    "n = int(input('Enter a number : '))\n",
    "checkIfCurzonNumber(n)"
   ]
  },
  {
   "cell_type": "code",
   "execution_count": 4,
   "id": "88fb5254",
   "metadata": {},
   "outputs": [
    {
     "name": "stdout",
     "output_type": "stream",
     "text": [
      "Enter the length : 4\n",
      "Area: 41.5692\n"
     ]
    }
   ],
   "source": [
    "#Q4.Given the side length x find the area of a hexagon.\n",
    "\n",
    "#Examples\n",
    "#area_of_hexagon(1) ➞ 2.6\n",
    "#area_of_hexagon(2) ➞ 10.4\n",
    "#area_of_hexagon(3) ➞ 23.4\n",
    "\n",
    "# area of a Hexagon\n",
    "# Area = (3 √3(n*n) ) / 2\n",
    "import math\n",
    "def area_of_hexagon(s):     \n",
    "    return ((3 * math.sqrt(3) * (sideLength * sideLength)) / 2);\n",
    "     \n",
    "#length of a side.\n",
    "sideLength = float(input('Enter the length : '))\n",
    "\n",
    "print(\"Area:\",\"{0:.4f}\".format(area_of_hexagon(sideLength)))"
   ]
  },
  {
   "cell_type": "code",
   "execution_count": null,
   "id": "c5709ae1",
   "metadata": {},
   "outputs": [],
   "source": [
    "#Q5.Create a function that returns a base-2 (binary) representation of a base-10\n",
    "#(decimal) string number. To convert is simple: ((2) means base-2 and (10) means base-10)\n",
    "#010101001(2) = 1 + 8 + 32 + 128.\n",
    "#Going from right to left, the value of the most right bit is 1, now from that every bit to the left\n",
    "#will be x2 the value, value of an 8 bit binary numbers are (256, 128, 64, 32, 16, 8, 4, 2, 1).\n",
    "#Examples\n",
    "#binary(1) ➞ '1'\n",
    "# 1*1 = 1\n",
    "#binary(5) ➞ '101'\n",
    "# 1*1 + 1*4 = 5\n",
    "#binary(10) ➞ '1010'\n",
    "# 1*2 + 1*8 = 10"
   ]
  }
 ],
 "metadata": {
  "kernelspec": {
   "display_name": "Python 3",
   "language": "python",
   "name": "python3"
  },
  "language_info": {
   "codemirror_mode": {
    "name": "ipython",
    "version": 3
   },
   "file_extension": ".py",
   "mimetype": "text/x-python",
   "name": "python",
   "nbconvert_exporter": "python",
   "pygments_lexer": "ipython3",
   "version": "3.8.8"
  }
 },
 "nbformat": 4,
 "nbformat_minor": 5
}
