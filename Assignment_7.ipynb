{
 "cells": [
  {
   "cell_type": "code",
   "execution_count": 1,
   "id": "bc0160f7",
   "metadata": {},
   "outputs": [
    {
     "data": {
      "text/plain": [
       "45"
      ]
     },
     "execution_count": 1,
     "metadata": {},
     "output_type": "execute_result"
    }
   ],
   "source": [
    "#Q1.Write a Python Program to find sum of array?\n",
    "\n",
    "#Solution 1\n",
    "lst = [1,2,3,4,5,6,7,8,9]\n",
    "sum(lst)"
   ]
  },
  {
   "cell_type": "code",
   "execution_count": 2,
   "id": "59efedef",
   "metadata": {},
   "outputs": [
    {
     "name": "stdout",
     "output_type": "stream",
     "text": [
      "Sum is 45\n"
     ]
    }
   ],
   "source": [
    "#Solution 2\n",
    "sum =0\n",
    "lst = [1,2,3,4,5,6,7,8,9]\n",
    "for i in range(0,len(lst)):\n",
    "    sum+=lst[i]\n",
    "print(\"Sum is\",sum)"
   ]
  },
  {
   "cell_type": "code",
   "execution_count": 4,
   "id": "ae65118d",
   "metadata": {},
   "outputs": [
    {
     "name": "stdout",
     "output_type": "stream",
     "text": [
      "largest elemnt in the array [100, 240, 310, 67, 445, 9] is 445\n"
     ]
    }
   ],
   "source": [
    "#Q2.Write a Python Program to find largest element in an array?\n",
    "\n",
    "#solution 1\n",
    "lst = [100,240,310,67,445,9]\n",
    "max(lst)\n",
    "print(\"largest elemnt in the array {} is {}\".format(lst,max(lst)))"
   ]
  },
  {
   "cell_type": "code",
   "execution_count": 5,
   "id": "d6786276",
   "metadata": {},
   "outputs": [
    {
     "name": "stdout",
     "output_type": "stream",
     "text": [
      "Largest element in the array [100, 240, 310, 67, 445, 9] is 445 \n"
     ]
    }
   ],
   "source": [
    "#Solution2\n",
    "lst = [100,240,310,67,445,9]\n",
    "big = 0\n",
    "for i in range(0,len(lst)):\n",
    "    if big < lst[i]:\n",
    "        big = lst[i]\n",
    "        \n",
    "print(\"Largest element in the array {} is {} \".format(lst,big))"
   ]
  },
  {
   "cell_type": "code",
   "execution_count": 7,
   "id": "1f5f6b0b",
   "metadata": {},
   "outputs": [
    {
     "name": "stdout",
     "output_type": "stream",
     "text": [
      "Enter the lenth of your list : 10\n",
      "10\n",
      "10\n",
      "10\n",
      "20\n",
      "45\n",
      "4\n",
      "3\n",
      "1\n",
      "2\n",
      "9\n",
      "The List is  [10, 10, 10, 20, 45, 4, 3, 1, 2, 9]\n",
      "Enter Rotation Right/Left : right\n",
      "Enter the number of elements to rotate < : 3\n",
      "After right rotation :  [1, 2, 9, 10, 10, 10, 20, 45, 4, 3]\n"
     ]
    }
   ],
   "source": [
    "#Q3.Write a Python Program for array rotation?\n",
    "\n",
    "n = int(input(\"Enter the lenth of your list : \"))\n",
    "lst = []\n",
    "\n",
    "for i in range(n):\n",
    "    lst.append(int(input()))\n",
    "print(\"The List is \",lst)\n",
    "rotation = input(\"Enter Rotation Right/Left : \")\n",
    "nele = int(input(\"Enter the number of elements to rotate < : \"))\n",
    "if nele > n:\n",
    "    print(\"can not rotate as elements to rotate is larger then list lengh\")\n",
    "else:\n",
    "    rlst = []\n",
    "    if rotation.upper() == \"RIGHT\":\n",
    "        rlst[:] = lst[-nele:] + lst[:(n-nele)]\n",
    "        print(\"After right rotation : \",rlst)\n",
    "    elif rotation.upper() == \"LEFT\":\n",
    "        rlst[:] = lst[nele:n] + lst[:nele] \n",
    "        print(\"After Left rotation : \",rlst)\n",
    "    else:\n",
    "        print(\"Invalid Entry\")"
   ]
  },
  {
   "cell_type": "code",
   "execution_count": 8,
   "id": "15d1f0cf",
   "metadata": {},
   "outputs": [
    {
     "name": "stdout",
     "output_type": "stream",
     "text": [
      "Enter the lenth of your list : 5\n",
      "1\n",
      "2\n",
      "3\n",
      "4\n",
      "5\n",
      "The List is  [1, 2, 3, 4, 5]\n",
      "Enter the number of elements to split < : 3\n",
      "The split list is : [1, 2, 3]\n",
      "The List after split and add : [4, 5, 1, 2, 3]\n"
     ]
    }
   ],
   "source": [
    "#Q4.Write a Python Program to Split the array and add the first part to the end?\n",
    "\n",
    "n = int(input(\"Enter the lenth of your list : \"))\n",
    "lst = []\n",
    "\n",
    "for i in range(n):\n",
    "    lst.append(int(input()))\n",
    "print(\"The List is \",lst)\n",
    "\n",
    "nele = int(input(\"Enter the number of elements to split < : \"))\n",
    "if nele > n:\n",
    "    print(\"can not split as elements to split is larger then list lengh\")\n",
    "else:\n",
    "    print(\"The split list is :\",lst[:nele])\n",
    "    rlst[:] = lst[nele:n] + lst[:nele]\n",
    "    print(\"The List after split and add :\", rlst)"
   ]
  },
  {
   "cell_type": "code",
   "execution_count": 9,
   "id": "bec44613",
   "metadata": {},
   "outputs": [
    {
     "name": "stdout",
     "output_type": "stream",
     "text": [
      "Enter the lenth of your list : 10\n",
      "1\n",
      "2\n",
      "3\n",
      "3\n",
      "4\n",
      "4\n",
      "5\n",
      "6\n",
      "7\n",
      "7\n",
      "The List is  [1, 2, 3, 3, 4, 4, 5, 6, 7, 7]\n",
      "Monotonic\n"
     ]
    }
   ],
   "source": [
    "#Q5.Write a Python Program to check if given array is Monotonic?\n",
    "\n",
    "#An array is said to be monotonic in nature if it is either continuously increasing or continuously decreasing.\n",
    "\n",
    "n = int(input(\"Enter the lenth of your list : \"))\n",
    "lst = []\n",
    "\n",
    "for i in range(n):\n",
    "    lst.append(int(input()))\n",
    "print(\"The List is \",lst)\n",
    "\n",
    "if all((lst[i] <= lst[i+1] for i in range(n-1)) or (lst[i] >= lst[i+1] for i in range(n-1))):\n",
    "    print(\"Monotonic\")\n",
    "else:\n",
    "    print(\"Not Monotonic\")"
   ]
  },
  {
   "cell_type": "code",
   "execution_count": null,
   "id": "6849940a",
   "metadata": {},
   "outputs": [],
   "source": []
  }
 ],
 "metadata": {
  "kernelspec": {
   "display_name": "Python 3",
   "language": "python",
   "name": "python3"
  },
  "language_info": {
   "codemirror_mode": {
    "name": "ipython",
    "version": 3
   },
   "file_extension": ".py",
   "mimetype": "text/x-python",
   "name": "python",
   "nbconvert_exporter": "python",
   "pygments_lexer": "ipython3",
   "version": "3.8.8"
  }
 },
 "nbformat": 4,
 "nbformat_minor": 5
}
