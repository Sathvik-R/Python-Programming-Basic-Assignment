{
 "cells": [
  {
   "cell_type": "code",
   "execution_count": 1,
   "id": "bed280e7",
   "metadata": {},
   "outputs": [
    {
     "name": "stdout",
     "output_type": "stream",
     "text": [
      "Enter the length of your list : 3\n",
      "1\n",
      "2\n",
      "3\n",
      "The List is  [1, 2, 3]\n",
      "Sum of elements in List 6\n"
     ]
    }
   ],
   "source": [
    "#Q1.Write a Python program to find sum of elements in list?\n",
    "\n",
    "\n",
    "n = int(input(\"Enter the length of your list : \"))\n",
    "lst = []\n",
    "\n",
    "for i in range(n):\n",
    "    lst.append(int(input()))\n",
    "print(\"The List is \",lst)\n",
    "print(\"Sum of elements in List\",sum(lst))"
   ]
  },
  {
   "cell_type": "code",
   "execution_count": 2,
   "id": "6ea93e76",
   "metadata": {},
   "outputs": [
    {
     "name": "stdout",
     "output_type": "stream",
     "text": [
      "Enter the length of your list : 5\n",
      "3\n",
      "9\n",
      "0\n",
      "5\n",
      "6\n",
      "The List is  [3, 9, 0, 5, 6]\n",
      "Product of elements in List is : 0\n"
     ]
    }
   ],
   "source": [
    "#Q2.Write a Python program to Multiply all numbers in the list?\n",
    "\n",
    "n = int(input(\"Enter the length of your list : \"))\n",
    "lst = []\n",
    "\n",
    "for i in range(n):\n",
    "    lst.append(int(input()))\n",
    "print(\"The List is \",lst)\n",
    "product = 1\n",
    "for ele in lst:\n",
    "    product = product*ele\n",
    "print(\"Product of elements in List is :\",product)"
   ]
  },
  {
   "cell_type": "code",
   "execution_count": 3,
   "id": "b8c1f24c",
   "metadata": {},
   "outputs": [
    {
     "name": "stdout",
     "output_type": "stream",
     "text": [
      "Enter the length of your list : 3\n",
      "2\n",
      "5\n",
      "6\n",
      "The List is  [2, 5, 6]\n",
      "The Smallest element in the list is : 2\n"
     ]
    }
   ],
   "source": [
    "#Q3.Write a Python program to find smallest number in a list?\n",
    "\n",
    "n = int(input(\"Enter the length of your list : \"))\n",
    "lst = []\n",
    "\n",
    "for i in range(n):\n",
    "    lst.append(int(input()))\n",
    "print(\"The List is \",lst)\n",
    "print(\"The Smallest element in the list is :\",min(lst))"
   ]
  },
  {
   "cell_type": "code",
   "execution_count": 4,
   "id": "81f47cb1",
   "metadata": {},
   "outputs": [
    {
     "name": "stdout",
     "output_type": "stream",
     "text": [
      "Enter the length of your list : 4\n",
      "3\n",
      "6\n",
      "7\n",
      "8\n",
      "The List is  [3, 6, 7, 8]\n",
      "The largest element in the list is : 8\n"
     ]
    }
   ],
   "source": [
    "#Q4.Write a Python program to find largest number in a list?\n",
    "\n",
    "n = int(input(\"Enter the length of your list : \"))\n",
    "lst = []\n",
    "\n",
    "for i in range(n):\n",
    "    lst.append(int(input()))\n",
    "print(\"The List is \",lst)\n",
    "print(\"The largest element in the list is :\",max(lst))"
   ]
  },
  {
   "cell_type": "code",
   "execution_count": 5,
   "id": "05cc37cc",
   "metadata": {},
   "outputs": [
    {
     "name": "stdout",
     "output_type": "stream",
     "text": [
      "Enter the length of your list : 5\n",
      "4\n",
      "6\n",
      "7\n",
      "8\n",
      "9\n",
      "The List is  [4, 6, 7, 8, 9]\n",
      "The sorted list is  [4, 6, 7, 8, 9]\n",
      "The second largest element in the list is  8\n"
     ]
    }
   ],
   "source": [
    "#Q5.Write a Python program to find second largest number in a list?\n",
    "\n",
    "n = int(input(\"Enter the length of your list : \"))\n",
    "lst = []\n",
    "\n",
    "for i in range(n):\n",
    "    lst.append(int(input()))\n",
    "print(\"The List is \",lst)\n",
    "lst.sort()\n",
    "print(\"The sorted list is \",lst)\n",
    "print(\"The second largest element in the list is \",lst[-2])"
   ]
  },
  {
   "cell_type": "code",
   "execution_count": 6,
   "id": "f020fcc6",
   "metadata": {},
   "outputs": [
    {
     "name": "stdout",
     "output_type": "stream",
     "text": [
      "Enter the length of your list : 5\n",
      "3\n",
      "4\n",
      "5\n",
      "7\n",
      "8\n",
      "The List is  [3, 4, 5, 7, 8]\n",
      "The sorted list is  [3, 4, 5, 7, 8]\n",
      "Enter how many largest number u want to see in from the list :2\n",
      "2 largest elements from the list are : [7, 8]\n"
     ]
    }
   ],
   "source": [
    "#Q6.Write a Python program to find N largest elements from a list?\n",
    "\n",
    "\n",
    "n = int(input(\"Enter the length of your list : \"))\n",
    "lst = []\n",
    "\n",
    "for i in range(n):\n",
    "    lst.append(int(input()))\n",
    "print(\"The List is \",lst)\n",
    "lst.sort()\n",
    "print(\"The sorted list is \",lst)\n",
    "nlargest = int(input(\"Enter how many largest number u want to see in from the list :\"))\n",
    "\n",
    "if n < nlargest :\n",
    "    print(\"enterted value is larger then that list length\")\n",
    "else:\n",
    "    print(nlargest,\"largest elements from the list are :\",lst[(n-nlargest):])"
   ]
  },
  {
   "cell_type": "code",
   "execution_count": 7,
   "id": "a2cb3e32",
   "metadata": {},
   "outputs": [
    {
     "name": "stdout",
     "output_type": "stream",
     "text": [
      "Enter the length of your list : 4\n",
      "4\n",
      "5\n",
      "7\n",
      "9\n",
      "The List is  [4, 5, 7, 9]\n",
      "The even numbers in the list are : [4]\n"
     ]
    }
   ],
   "source": [
    "#Q7.Write a Python program to print even numbers in a list?\n",
    "\n",
    "n = int(input(\"Enter the length of your list : \"))\n",
    "lst = []\n",
    "\n",
    "for i in range(n):\n",
    "    lst.append(int(input()))\n",
    "print(\"The List is \",lst)\n",
    "evenlist =[]\n",
    "\n",
    "for i in lst:\n",
    "    if i % 2 == 0:\n",
    "        evenlist.append(i)\n",
    "print(\"The even numbers in the list are :\",evenlist)"
   ]
  },
  {
   "cell_type": "code",
   "execution_count": 8,
   "id": "eb1e7505",
   "metadata": {},
   "outputs": [
    {
     "name": "stdout",
     "output_type": "stream",
     "text": [
      "Enter the length of your list : 4\n",
      "3\n",
      "4\n",
      "4\n",
      "5\n",
      "The List is  [3, 4, 4, 5]\n",
      "The odd numbers in the list are : [3, 5]\n"
     ]
    }
   ],
   "source": [
    "#Q8.Write a Python program to print odd numbers in a List?\n",
    "\n",
    "n = int(input(\"Enter the length of your list : \"))\n",
    "lst = []\n",
    "\n",
    "for i in range(n):\n",
    "    lst.append(int(input()))\n",
    "print(\"The List is \",lst)\n",
    "oddlist =[]\n",
    "\n",
    "for i in lst:\n",
    "    if i % 2 != 0:\n",
    "        oddlist.append(i)\n",
    "print(\"The odd numbers in the list are :\",oddlist)"
   ]
  },
  {
   "cell_type": "code",
   "execution_count": 9,
   "id": "4d138da6",
   "metadata": {},
   "outputs": [
    {
     "name": "stdout",
     "output_type": "stream",
     "text": [
      "The List : [2, [], 4, 5, [], 6, 8, [], 3]\n",
      "The list after removing empty lists\n",
      "[2, 4, 5, 6, 8, 3]\n"
     ]
    }
   ],
   "source": [
    "#Q9.Write a Python program to Remove empty List from List?\n",
    "\n",
    "lst = [2,[],4,5,[],6,8,[],3]\n",
    "print(\"The List :\",lst)\n",
    "removedlist = [ele for ele in lst if ele != []]\n",
    "print(\"The list after removing empty lists\")\n",
    "print(removedlist)"
   ]
  },
  {
   "cell_type": "code",
   "execution_count": 10,
   "id": "aa8b0417",
   "metadata": {},
   "outputs": [
    {
     "name": "stdout",
     "output_type": "stream",
     "text": [
      "Enter the length of your list : 4\n",
      "5\n",
      "7\n",
      "99\n",
      "0\n",
      "The List is  [5, 7, 99, 0]\n",
      "The cloned/copied list :\n",
      "Cloning By list slicing lst[:]  [5, 7, 99, 0]\n",
      "Cloning By list copying lst.copy()  [5, 7, 99, 0]\n",
      "Cloning By list Comprahention  [5, 7, 99, 0]\n",
      "Cloning By list append  [5, 7, 99, 0]\n"
     ]
    }
   ],
   "source": [
    "#Q10.Write a Python program to Cloning or Copying a list?\n",
    "\n",
    "n = int(input(\"Enter the length of your list : \"))\n",
    "lst = []\n",
    "\n",
    "for i in range(n):\n",
    "    lst.append(int(input()))\n",
    "print(\"The List is \",lst)\n",
    "\n",
    "print(\"The cloned/copied list :\")\n",
    "\n",
    "#Method 1\n",
    "lstcopy = lst[:]\n",
    "print(\"Cloning By list slicing lst[:] \",lstcopy)\n",
    "\n",
    "#method2\n",
    "lst2 = lst.copy()\n",
    "print(\"Cloning By list copying lst.copy() \",lst2)\n",
    "\n",
    "\n",
    "#Method3\n",
    "lstcomprah = [i for i in lst]\n",
    "print(\"Cloning By list Comprahention \",lstcomprah)\n",
    "\n",
    "\n",
    "#method4\n",
    "lstappend=[]\n",
    "for i in lst : lstappend.append(i)\n",
    "print(\"Cloning By list append \",lstappend)"
   ]
  },
  {
   "cell_type": "code",
   "execution_count": 12,
   "id": "c15d2431",
   "metadata": {},
   "outputs": [
    {
     "name": "stdout",
     "output_type": "stream",
     "text": [
      "Enter the lenth of your list : 5\n",
      "4\n",
      "5\n",
      "6\n",
      "7\n",
      "7\n",
      "The List is  [4, 5, 6, 7, 7]\n",
      "Enter the element to find its occurance : 7\n",
      "7 has occured 2 times in the list \n"
     ]
    }
   ],
   "source": [
    "#Q11.Write a Python program to Count occurrences of an element in a list?\n",
    "\n",
    "n = int(input(\"Enter the lenth of your list : \"))\n",
    "lst = []\n",
    "\n",
    "for i in range(n):\n",
    "    lst.append(int(input()))\n",
    "print(\"The List is \",lst)\n",
    "ele= int(input(\"Enter the element to find its occurance : \"))\n",
    "print(ele,\"has occured {} times in the list \".format(lst.count(ele)))"
   ]
  },
  {
   "cell_type": "code",
   "execution_count": null,
   "id": "67f4b871",
   "metadata": {},
   "outputs": [],
   "source": []
  }
 ],
 "metadata": {
  "kernelspec": {
   "display_name": "Python 3",
   "language": "python",
   "name": "python3"
  },
  "language_info": {
   "codemirror_mode": {
    "name": "ipython",
    "version": 3
   },
   "file_extension": ".py",
   "mimetype": "text/x-python",
   "name": "python",
   "nbconvert_exporter": "python",
   "pygments_lexer": "ipython3",
   "version": "3.8.8"
  }
 },
 "nbformat": 4,
 "nbformat_minor": 5
}
