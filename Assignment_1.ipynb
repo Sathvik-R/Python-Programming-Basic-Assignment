{
 "cells": [
  {
   "cell_type": "code",
   "execution_count": 1,
   "id": "79f58ceb",
   "metadata": {},
   "outputs": [
    {
     "name": "stdout",
     "output_type": "stream",
     "text": [
      "Hello Python\n"
     ]
    }
   ],
   "source": [
    "#Q1.Write a Python program to print 'Hello Python'?\n",
    "\n",
    "print('Hello Python')"
   ]
  },
  {
   "cell_type": "code",
   "execution_count": 4,
   "id": "f252c076",
   "metadata": {},
   "outputs": [
    {
     "name": "stdout",
     "output_type": "stream",
     "text": [
      "Addition 10+30=40\n",
      "Division 10/30=3.0\n"
     ]
    }
   ],
   "source": [
    "#Q2.Write a Python program to do arithmetical operations addition and division.?\n",
    "\n",
    "a=10\n",
    "b=30\n",
    "\n",
    "print('Addition {}+{}={}'.format(a,b,a+b))\n",
    "print('Division {}/{}={}'.format(a,b,b/a))"
   ]
  },
  {
   "cell_type": "code",
   "execution_count": 6,
   "id": "71449eee",
   "metadata": {},
   "outputs": [
    {
     "name": "stdout",
     "output_type": "stream",
     "text": [
      "Enter base :20\n",
      "Enter height :3\n",
      "Area of Triangle =  30.0\n"
     ]
    }
   ],
   "source": [
    "#Q3.Write a Python program to find the area of a triangle?\n",
    "\n",
    "# Area of triangle = (base*height)/2\n",
    "\n",
    "b = int(input(\"Enter base :\"))\n",
    "h = int(input(\"Enter height :\"))\n",
    "\n",
    "area = (b*h)/2\n",
    "\n",
    "print(\"Area of Triangle = \", area)"
   ]
  },
  {
   "cell_type": "code",
   "execution_count": 7,
   "id": "49e5ccda",
   "metadata": {},
   "outputs": [
    {
     "name": "stdout",
     "output_type": "stream",
     "text": [
      "Before swaping a = 10, b = 20\n",
      "After swaping a = 20, b = 10\n"
     ]
    }
   ],
   "source": [
    "#Q4.Write a Python program to swap two variables?\n",
    "\n",
    "a = 10\n",
    "b = 20\n",
    "\n",
    "print(\"Before swaping a = {}, b = {}\".format(a,b))\n",
    "temp = a\n",
    "a = b\n",
    "b = temp\n",
    "\n",
    "print(\"After swaping a = {}, b = {}\".format(a,b))"
   ]
  },
  {
   "cell_type": "code",
   "execution_count": 8,
   "id": "2c2b3ed9",
   "metadata": {},
   "outputs": [
    {
     "name": "stdout",
     "output_type": "stream",
     "text": [
      "18\n"
     ]
    }
   ],
   "source": [
    "#Q5.Write a Python program to generate a random number?\n",
    "\n",
    "import random\n",
    "\n",
    "randomNum = random.randint(0,100)\n",
    "print(randomNum)"
   ]
  },
  {
   "cell_type": "code",
   "execution_count": null,
   "id": "b3a64cf3",
   "metadata": {},
   "outputs": [],
   "source": []
  }
 ],
 "metadata": {
  "kernelspec": {
   "display_name": "Python 3",
   "language": "python",
   "name": "python3"
  },
  "language_info": {
   "codemirror_mode": {
    "name": "ipython",
    "version": 3
   },
   "file_extension": ".py",
   "mimetype": "text/x-python",
   "name": "python",
   "nbconvert_exporter": "python",
   "pygments_lexer": "ipython3",
   "version": "3.8.8"
  }
 },
 "nbformat": 4,
 "nbformat_minor": 5
}
