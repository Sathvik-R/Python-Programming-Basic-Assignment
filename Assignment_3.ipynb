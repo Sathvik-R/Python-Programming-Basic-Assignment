{
 "cells": [
  {
   "cell_type": "code",
   "execution_count": 1,
   "id": "4df21ddc",
   "metadata": {},
   "outputs": [
    {
     "name": "stdout",
     "output_type": "stream",
     "text": [
      "enter a Number : 10\n",
      "The Number is Positive\n"
     ]
    }
   ],
   "source": [
    "#Q1.Write a Python Program to Check if a Number is Positive, Negative or Zero?\n",
    "\n",
    "num = int(input(\"enter a Number : \"))\n",
    "\n",
    "if num == 0 :\n",
    "    print(\"The number is Zero\")\n",
    "elif num > 0:\n",
    "    print(\"The Number is Positive\")\n",
    "else:\n",
    "    print(\"The number is Negative\")"
   ]
  },
  {
   "cell_type": "code",
   "execution_count": 2,
   "id": "015591e9",
   "metadata": {},
   "outputs": [
    {
     "name": "stdout",
     "output_type": "stream",
     "text": [
      "enter a Number : 10\n",
      "The number is Even\n"
     ]
    }
   ],
   "source": [
    "#Q2.Write a Python Program to Check if a Number is Odd or Even?\n",
    "\n",
    "num = int(input(\"enter a Number : \"))\n",
    "\n",
    "if num % 2 == 0:\n",
    "    print(\"The number is Even\")\n",
    "else:\n",
    "    print(\"The number is Odd\")"
   ]
  },
  {
   "cell_type": "code",
   "execution_count": 3,
   "id": "0b56b0ac",
   "metadata": {},
   "outputs": [
    {
     "name": "stdout",
     "output_type": "stream",
     "text": [
      "Enter a year : 2021\n",
      "Not a Leap Year\n"
     ]
    }
   ],
   "source": [
    "#Q3.Write a Python Program to Check Leap Year?\n",
    "\n",
    "def checkYear(year):\n",
    "    if (year % 4) == 0:\n",
    "        if (year % 100) == 0:\n",
    "            if (year % 400) == 0:\n",
    "                return True\n",
    "            else:\n",
    "                return False\n",
    "        else:\n",
    "             return True\n",
    "    else:\n",
    "        return False\n",
    " \n",
    "\n",
    "year = int(input(\"Enter a year : \"))\n",
    "if(checkYear(year)):\n",
    "    print(\"Leap Year\")\n",
    "else:\n",
    "    print(\"Not a Leap Year\")"
   ]
  },
  {
   "cell_type": "code",
   "execution_count": 4,
   "id": "d7fce4f9",
   "metadata": {},
   "outputs": [
    {
     "name": "stdout",
     "output_type": "stream",
     "text": [
      "Enter a number: 1\n",
      "Number is less than 1\n"
     ]
    }
   ],
   "source": [
    "#Q4.Write a Python Program to Check Prime Number?\n",
    "\n",
    "num1 = int(input(\"Enter a number: \")) \n",
    " \n",
    "if num1 > 1:\n",
    "    for i in range(2,num1):\n",
    "        if (num1%i) == 0:\n",
    "            print(num1,'is not a prime')                \n",
    "            break\n",
    "    else:\n",
    "        print(num1,'is a prime number')\n",
    "else:\n",
    "    print(\"Number is less than 1\")"
   ]
  },
  {
   "cell_type": "code",
   "execution_count": 5,
   "id": "eae17322",
   "metadata": {},
   "outputs": [
    {
     "name": "stdout",
     "output_type": "stream",
     "text": [
      "Enter a number1: 10\n",
      "Enter a number2: 20\n",
      "10 is not a prime\n",
      "11 is a prime number\n",
      "12 is not a prime\n",
      "13 is a prime number\n",
      "14 is not a prime\n",
      "15 is not a prime\n",
      "16 is not a prime\n",
      "17 is a prime number\n",
      "18 is not a prime\n",
      "19 is a prime number\n"
     ]
    },
    {
     "data": {
      "text/plain": [
       "[11, 13, 17, 19]"
      ]
     },
     "execution_count": 5,
     "metadata": {},
     "output_type": "execute_result"
    }
   ],
   "source": [
    "#Q5.Write a Python Program to Print all Prime Numbers in an Interval of 1-10000?\n",
    "\n",
    "listprime = []\n",
    "num1 = int(input(\"Enter a number1: \")) \n",
    "num2 = int(input(\"Enter a number2: \")) \n",
    "for num in range(num1,num2):  \n",
    "    if num > 1:\n",
    "        for i in range(2,num):\n",
    "            if (num%i) == 0:\n",
    "                print(num,'is not a prime')                \n",
    "                break\n",
    "        else:\n",
    "            print(num,'is a prime number')\n",
    "            listprime.append(num)\n",
    "    \n",
    "listprime"
   ]
  },
  {
   "cell_type": "code",
   "execution_count": null,
   "id": "96b1eb5a",
   "metadata": {},
   "outputs": [],
   "source": []
  }
 ],
 "metadata": {
  "kernelspec": {
   "display_name": "Python 3",
   "language": "python",
   "name": "python3"
  },
  "language_info": {
   "codemirror_mode": {
    "name": "ipython",
    "version": 3
   },
   "file_extension": ".py",
   "mimetype": "text/x-python",
   "name": "python",
   "nbconvert_exporter": "python",
   "pygments_lexer": "ipython3",
   "version": "3.8.8"
  }
 },
 "nbformat": 4,
 "nbformat_minor": 5
}
