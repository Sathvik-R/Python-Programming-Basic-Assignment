{
 "cells": [
  {
   "cell_type": "code",
   "execution_count": 1,
   "id": "642f450c",
   "metadata": {},
   "outputs": [
    {
     "name": "stdout",
     "output_type": "stream",
     "text": [
      "The Sum of two matrix [[1, 6, 4], [4, 5, 6], [7, 6, 9]]  and [[2, 5, 4], [5, 8, 7], [8, 3, 1]]  is \n",
      "[[3, 11, 8], [9, 13, 13], [15, 9, 10]] \n"
     ]
    }
   ],
   "source": [
    "#Q1.Write a Python Program to Add Two Matrices?\n",
    "\n",
    "#solution 1\n",
    "mat1 = [[1,6,4],\n",
    "        [4,5,6],\n",
    "        [7,6,9]]\n",
    "\n",
    "mat2 = [[2,5,4],\n",
    "        [5,8,7],\n",
    "        [8,3,1]]\n",
    "\n",
    "sumMat = [[0,0,0],\n",
    "          [0,0,0],\n",
    "          [0,0,0]]\n",
    "\n",
    "sumMat = [[mat1[i][j] + mat2[i][j] for j in range(len(mat1[0]))] for i in range(len(mat1))]\n",
    "print(\"The Sum of two matrix {}  and {}  is \\n{} \".format(mat1,mat2,sumMat))"
   ]
  },
  {
   "cell_type": "code",
   "execution_count": 2,
   "id": "32739ddb",
   "metadata": {},
   "outputs": [
    {
     "name": "stdout",
     "output_type": "stream",
     "text": [
      "The Sum of two matrix \n",
      "\n",
      "[[1 6 4]\n",
      " [4 5 6]\n",
      " [7 6 9]]  and \n",
      "\n",
      "[[2 5 4]\n",
      " [5 8 7]\n",
      " [8 3 1]]  is \n",
      "\n",
      "[[ 3 11  8]\n",
      " [ 9 13 13]\n",
      " [15  9 10]] \n"
     ]
    }
   ],
   "source": [
    "# solution 2\n",
    "import numpy as np\n",
    "\n",
    "mat1 = np.array([[1,6,4],\n",
    "        [4,5,6],\n",
    "        [7,6,9]])\n",
    "mat2 = np.array([[2,5,4],\n",
    "        [5,8,7],\n",
    "        [8,3,1]])\n",
    "\n",
    "sumMat = np.add(mat1,mat2)\n",
    "print(\"The Sum of two matrix \\n\\n{}  and \\n\\n{}  is \\n\\n{} \".format(mat1,mat2,sumMat))"
   ]
  },
  {
   "cell_type": "code",
   "execution_count": 3,
   "id": "4ee97fe5",
   "metadata": {},
   "outputs": [
    {
     "name": "stdout",
     "output_type": "stream",
     "text": [
      "Enter N for N x N matrix: 2\n",
      "Enter the element :\n",
      "1\n",
      "2\n",
      "3\n",
      "4\n",
      "Display Array M1 In Matrix Form\n",
      "1 2 \n",
      "3 4 \n",
      "Enter the element :\n",
      "2\n",
      "3\n",
      "4\n",
      "45\n",
      "Display Array M2 In Matrix Form\n",
      "2 3 \n",
      "4 45 \n",
      "Result Matrix\n",
      "[3, 5]\n",
      "[7, 49]\n"
     ]
    }
   ],
   "source": [
    "#Q2.Write a Python Program to Multiply Two Matrices?\n",
    "\n",
    "## Solution 1\n",
    "# Program to multiply two matrices\n",
    "\n",
    "def initializeMatrix(n,v=0):\n",
    "    M=[]             \n",
    "    for i in range(n):\n",
    "        #stor row\n",
    "        row =[]\n",
    "        for j in range(n):\n",
    "            row.append(v)\n",
    "        M.append(row)\n",
    "    return(M)\n",
    "\n",
    "def createMatrix(n):\n",
    "    \n",
    "    M=[]             \n",
    "    print(\"Enter the element :\")\n",
    "    for i in range(n):\n",
    "        #stor row\n",
    "        row =[]\n",
    "        for j in range(n):\n",
    "            row.append(int(input()))\n",
    "        M.append(row)\n",
    "    return(M)\n",
    "\n",
    "def printMatrix(M,n):\n",
    "    for i in range(n):\n",
    "        for j in range(n):\n",
    "            print(M[i][j], end=\" \")\n",
    "        print() \n",
    "def mulMatrix(A,B,result):        \n",
    "    for i in range(len(A)):\n",
    "        for j in range(len(B[0])):\n",
    "            for k in range(len(B)):\n",
    "                result[i][j] = result[i][j] + A[i][k] * B[k][j]\n",
    "                return result\n",
    "    \n",
    "        \n",
    "n=int(input(\"Enter N for N x N matrix: \"))       \n",
    "M1 = createMatrix(n)\n",
    "\n",
    "#Display the 2D array\n",
    "print(\"Display Array M1 In Matrix Form\")\n",
    "printMatrix(M1,n)\n",
    "\n",
    "\n",
    "M2 = createMatrix(n)\n",
    "\n",
    "#Display the 2D array\n",
    "print(\"Display Array M2 In Matrix Form\")\n",
    "printMatrix(M2,n)\n",
    "\n",
    "\n",
    "sumMat = initializeMatrix(n)\n",
    "\n",
    "for i in range(len(M1)):\n",
    "    for j in range(len(M1[0])):\n",
    "        sumMat[i][j] = M1[i][j] + M2[i][j]\n",
    "        \n",
    "print(\"Result Matrix\")\n",
    "for r in sumMat:\n",
    "    print(r)"
   ]
  },
  {
   "cell_type": "code",
   "execution_count": 4,
   "id": "cf111865",
   "metadata": {},
   "outputs": [
    {
     "name": "stdout",
     "output_type": "stream",
     "text": [
      "The product of two matrix \n",
      "\n",
      "[[1 2 4]\n",
      " [4 5 6]\n",
      " [7 8 9]]  and \n",
      "\n",
      "[[2 3 4]\n",
      " [5 6 7]\n",
      " [8 9 1]]  is \n",
      "\n",
      "[[ 44  51  22]\n",
      " [ 81  96  57]\n",
      " [126 150  93]] \n"
     ]
    }
   ],
   "source": [
    "# solution 2\n",
    "import numpy as np\n",
    "\n",
    "mat1 = np.array([[1,2,4],\n",
    "        [4,5,6],\n",
    "        [7,8,9]])\n",
    "mat2 = np.array([[2,3,4],\n",
    "        [5,6,7],\n",
    "        [8,9,1]])\n",
    "\n",
    "sumMat = np.dot(mat1,mat2)\n",
    "print(\"The product of two matrix \\n\\n{}  and \\n\\n{}  is \\n\\n{} \".format(mat1,mat2,sumMat))"
   ]
  },
  {
   "cell_type": "code",
   "execution_count": 5,
   "id": "dbb91179",
   "metadata": {},
   "outputs": [
    {
     "name": "stdout",
     "output_type": "stream",
     "text": [
      "Enter N for N x N matrix: 2\n",
      "Enter the element :\n",
      "3\n",
      "4\n",
      "4\n",
      "5\n",
      "Display Array M1 In Matrix Form\n",
      "3 4 \n",
      "4 5 \n",
      "Transposed Matrix\n",
      "[3, 4]\n",
      "[4, 5]\n"
     ]
    }
   ],
   "source": [
    "#Q3.Write a Python Program to Transpose a Matrix?\n",
    "\n",
    "def initializeMatrix(n,v=0):\n",
    "    M=[]             \n",
    "    for i in range(n):\n",
    "        #stor row\n",
    "        row =[]\n",
    "        for j in range(n):\n",
    "            row.append(v)\n",
    "        M.append(row)\n",
    "    return(M)\n",
    "\n",
    "def createMatrix(n):\n",
    "    \n",
    "    M=[]             \n",
    "    print(\"Enter the element :\")\n",
    "    for i in range(n):\n",
    "        #stor row\n",
    "        row =[]\n",
    "        for j in range(n):\n",
    "            row.append(int(input()))\n",
    "        M.append(row)\n",
    "    return(M)\n",
    "\n",
    "def printMatrix(M,n):\n",
    "    for i in range(n):\n",
    "        for j in range(n):\n",
    "            print(M[i][j], end=\" \")\n",
    "        print() \n",
    "        \n",
    "def transposeMatrix(M,n,result):\n",
    "    for i in range(n):\n",
    "        for j in range(n):\n",
    "            result[i][j]= M[j][i]\n",
    "    return result\n",
    "n=int(input(\"Enter N for N x N matrix: \"))       \n",
    "M1 = createMatrix(n)\n",
    "#Display the 2D array\n",
    "print(\"Display Array M1 In Matrix Form\")\n",
    "printMatrix(M1,n)\n",
    "\n",
    "result = initializeMatrix(n)\n",
    "result = transposeMatrix(M1,n,result)\n",
    "print(\"Transposed Matrix\")\n",
    "for r in result:\n",
    "    print(r)"
   ]
  },
  {
   "cell_type": "code",
   "execution_count": 10,
   "id": "97323864",
   "metadata": {},
   "outputs": [
    {
     "name": "stdout",
     "output_type": "stream",
     "text": [
      "Enter some string: The course is full stack data science\n",
      "The\n",
      "course\n",
      "data\n",
      "full\n",
      "is\n",
      "science\n",
      "stack\n"
     ]
    }
   ],
   "source": [
    "#Q4.Write a Python Program to Sort Words in Alphabetic Order?\n",
    "\n",
    "\n",
    "str = input(\"Enter some string: \")\n",
    "\n",
    "words = str.split()\n",
    "words.sort()\n",
    "for i in words:\n",
    "    print(i)"
   ]
  },
  {
   "cell_type": "code",
   "execution_count": 12,
   "id": "3c7ce71d",
   "metadata": {},
   "outputs": [
    {
     "name": "stdout",
     "output_type": "stream",
     "text": [
      "Enter some string with panctuations: my 'name' {is] @Sathvik #R &&%K\n",
      "my name is Sathvik R K\n"
     ]
    }
   ],
   "source": [
    "#Q5.Write a Python Program to Remove Punctuation From a String?\n",
    "\n",
    "punctuations = '''!()-[]{};:'\"\\,<>./?@#$%^&*_~'''\n",
    "\n",
    "str = input(\"Enter some string with panctuations: \")\n",
    "\n",
    "# remove punctuation from the string\n",
    "no_punct = \"\"\n",
    "for char in str:\n",
    "    if char not in punctuations:\n",
    "        no_punct = no_punct + char\n",
    "\n",
    "# display the unpunctuated string\n",
    "print(no_punct)"
   ]
  },
  {
   "cell_type": "code",
   "execution_count": null,
   "id": "d4c3e29d",
   "metadata": {},
   "outputs": [],
   "source": []
  }
 ],
 "metadata": {
  "kernelspec": {
   "display_name": "Python 3",
   "language": "python",
   "name": "python3"
  },
  "language_info": {
   "codemirror_mode": {
    "name": "ipython",
    "version": 3
   },
   "file_extension": ".py",
   "mimetype": "text/x-python",
   "name": "python",
   "nbconvert_exporter": "python",
   "pygments_lexer": "ipython3",
   "version": "3.8.8"
  }
 },
 "nbformat": 4,
 "nbformat_minor": 5
}
